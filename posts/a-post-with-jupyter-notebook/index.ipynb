{
 "cells": [
  {
   "cell_type": "raw",
   "metadata": {},
   "source": [
    "---\n",
    "title: \"A post made from a jupyter notebook\"\n",
    "subtitle: \"Or how I fell in love with Quarto\"\n",
    "author: \"Gianluca Rigoletti\"\n",
    "date: \"2022-09-07\"\n",
    "categories: [\"jupyter\", \"notebook\", \"python\", \"quarto\"]\n",
    "toc: true\n",
    "---"
   ]
  },
  {
   "cell_type": "markdown",
   "metadata": {},
   "source": [
    "Few days ago I found [Quarto](https://quarto.org). I understood it is an authoring framework based on pandoc and that has full support of jupyter notebooks as input files. Since lot of work I carry on at the moment makes a heavy use of jupyter notebook I decided to try Quarto and use it for two main purposes:\n",
    "the first is as a replacement of `jupyter nbconvert` that I have intensively used to convert notebooks to html pages. \n",
    "\n",
    "I saw that Quarto provides much more flexibility on the layout of the text, images and code, which was exactly what I was looking for.\n",
    "The second way I intend to use Quarto is to publish the present content. At the time of writing, this post is written on an `index.ipynb` file in my local computer using Visual Studio code. I find extremely pleasant to write mixed content and have a tool that transforms it in a post page of a blog website.\n",
    "\n",
    "I will showcase here all the features that I have personally found relevant for the posts I am going to write as well, hoping that this post serves as a quick reference (together with the [Quarto user guide](https://quarto.org/docs/guide/)).\n",
    "\n",
    "## Code cells\n",
    "\n",
    "Code cells are pretty straightforward: I just have to write code in a cell and it will be executed and the output eventually frozen by Quarto. I found the [freeze option](https://quarto.org/docs/projects/code-execution.html#freeze) particularly useful and I set it to `auto` at the time of writing. In this way, the notebooks will be re-rendered only if the source code changes."
   ]
  },
  {
   "cell_type": "code",
   "execution_count": 4,
   "metadata": {},
   "outputs": [],
   "source": [
    "import matplotlib.pyplot as plt\n",
    "import pandas as pd \n",
    "import numpy as np"
   ]
  },
  {
   "cell_type": "markdown",
   "metadata": {},
   "source": [
    "At the very base you can just enter some code and save it. If you are using `quarto preview` the jupyter notebook is executed when it saved (and not when a code cell is executed, but this depends on the saving options of jupyter).\n",
    "\n",
    "For instance, we can write some code and let it display some output like this:"
   ]
  },
  {
   "cell_type": "code",
   "execution_count": 8,
   "metadata": {},
   "outputs": [
    {
     "data": {
      "text/plain": [
       "11"
      ]
     },
     "execution_count": 8,
     "metadata": {},
     "output_type": "execute_result"
    }
   ],
   "source": [
    "class TestClass:\n",
    "    def __init__(self, params) -> None:\n",
    "        self.attributes = params\n",
    "    \n",
    "    def increment(self, param: int) -> int:\n",
    "        return param + 1\n",
    "\n",
    "obj = TestClass('test')\n",
    "obj.increment(10)"
   ]
  },
  {
   "cell_type": "markdown",
   "metadata": {},
   "source": [
    "Sometimes a cell may contain lot of code that makes it difficult for the reader to keep track of the text. In this case folding the code is very helpful and only requires a special comment to be added at the beginning of the code cell:\n",
    "\n",
    "```python\n",
    "#| code-fold: true\n",
    "\n",
    "class TestClass:\n",
    "    def __init__(self, params) -> None:\n",
    "        self.attributes = params\n",
    "    \n",
    "    def increment(self, param: int) -> int:\n",
    "        return param + 1\n",
    "\n",
    "obj = TestClass('test')\n",
    "obj.increment(10)\n",
    "```"
   ]
  },
  {
   "cell_type": "markdown",
   "metadata": {},
   "source": [
    "Here below the result of the previous snippet of code:"
   ]
  },
  {
   "cell_type": "code",
   "execution_count": 9,
   "metadata": {},
   "outputs": [
    {
     "data": {
      "text/plain": [
       "11"
      ]
     },
     "execution_count": 9,
     "metadata": {},
     "output_type": "execute_result"
    }
   ],
   "source": [
    "#| code-fold: true\n",
    "\n",
    "class TestClass:\n",
    "    def __init__(self, params) -> None:\n",
    "        self.attributes = params\n",
    "    \n",
    "    def increment(self, param: int) -> int:\n",
    "        return param + 1\n",
    "\n",
    "obj = TestClass('test')\n",
    "obj.increment(10)"
   ]
  },
  {
   "cell_type": "markdown",
   "metadata": {},
   "source": [
    "Note that the output of the cell is not folded. This is particularly useful if you have lot of code printing out a plot for example: the code will be folded but the plot will be visible anyway.\n",
    "\n",
    "Some other time I wish to completely hide the code while keeping the output visible. In this case the option `echo: false` does the job:\n",
    "\n",
    "```python\n",
    "#| echo: false\n",
    "plt.plot([1,2,3], [4,5,6], 'ro');\n",
    "```"
   ]
  },
  {
   "cell_type": "markdown",
   "metadata": {},
   "source": [
    "Here below the result of the previous snippet of code:"
   ]
  },
  {
   "cell_type": "code",
   "execution_count": 10,
   "metadata": {},
   "outputs": [
    {
     "data": {
      "image/png": "[encoded data removed]",
      "text/plain": [
       "<Figure size 432x288 with 1 Axes>"
      ]
     },
     "metadata": {
      "needs_background": "light"
     },
     "output_type": "display_data"
    }
   ],
   "source": [
    "#| echo: false\n",
    "plt.plot([1,2,3], [4,5,6], 'ro');"
   ]
  },
  {
   "cell_type": "markdown",
   "metadata": {},
   "source": [
    "Code cells can be also assigned a file name. This is particularly helpful when there is a post that needs to tackle code among several files.\n",
    "As an example you can have something like:\n",
    "\n",
    "```python\n",
    "#| filename: test.py\n",
    "\n",
    "class A:\n",
    "    pass\n",
    "```\n",
    "\n",
    "And this would be rendered to:"
   ]
  },
  {
   "cell_type": "code",
   "execution_count": null,
   "metadata": {},
   "outputs": [],
   "source": [
    "#| filename: test.py\n",
    "\n",
    "class A:\n",
    "    pass"
   ]
  },
  {
   "cell_type": "markdown",
   "metadata": {},
   "source": [
    "## Controlling figures layout\n",
    "\n",
    "I find particularly useful the way Quarto helps treating outputs for code cells, especially laying out figures resulting from a code output. Often times I have big plots that I would like to take all the available horizontal space in the page. In this case I can use `#| column: screen` together with `#| fig-align: center` on the code cell\n",
    "\n",
    "```python\n",
    "#| column: screen\n",
    "#| fig-align: center\n",
    "fig, ax = plt.subplots(figsize=(8, 5), dpi=150)\n",
    "ax.plot(range(10), [1,2,3,2,1,2,2,31,1,2])\n",
    "```"
   ]
  },
  {
   "cell_type": "code",
   "execution_count": 22,
   "metadata": {},
   "outputs": [
    {
     "data": {
      "text/plain": [
       "[<matplotlib.lines.Line2D at 0x7fbccac65ff0>]"
      ]
     },
     "execution_count": 22,
     "metadata": {},
     "output_type": "execute_result"
    },
    {
     "data": {
      "image/png": "[encoded data removed]",
      "text/plain": [
       "<Figure size 1200x750 with 1 Axes>"
      ]
     },
     "metadata": {
      "needs_background": "light"
     },
     "output_type": "display_data"
    }
   ],
   "source": [
    "#| column: screen\n",
    "#| fig-align: center\n",
    "#| echo: false\n",
    "fig, ax = plt.subplots(figsize=(8, 5), dpi=150)\n",
    "ax.plot(range(10), [1,2,3,2,1,2,2,31,1,2])"
   ]
  },
  {
   "cell_type": "markdown",
   "metadata": {},
   "source": [
    "There is also support for custom layouts when multiple plots are produced. I typically use matplotlib APIs to lay out multiple plots but this features could be useful for images in general and sometimes with libraries where the layout support for subplots is not straightforward. As an example see this snippet:\n",
    "\n",
    "```python\n",
    "#| layout-ncol: 2\n",
    "\n",
    "fig, ax = plt.subplots()\n",
    "ax.plot([1,2,3,4], [4,3,2,3], 'ro-')\n",
    "\n",
    "fig2, ax2 = plt.subplots()\n",
    "ax2.plot([1,2,3,4], [4,3,1,32], 'b*--')\n",
    "```"
   ]
  },
  {
   "cell_type": "code",
   "execution_count": 23,
   "metadata": {},
   "outputs": [
    {
     "data": {
      "text/plain": [
       "[<matplotlib.lines.Line2D at 0x7fbccae61930>]"
      ]
     },
     "execution_count": 23,
     "metadata": {},
     "output_type": "execute_result"
    },
    {
     "data": {
      "image/png": "[encoded data removed]",
      "text/plain": [
       "<Figure size 432x288 with 1 Axes>"
      ]
     },
     "metadata": {
      "needs_background": "light"
     },
     "output_type": "display_data"
    },
    {
     "data": {
      "image/png": "[encoded data removed]",
      "text/plain": [
       "<Figure size 432x288 with 1 Axes>"
      ]
     },
     "metadata": {
      "needs_background": "light"
     },
     "output_type": "display_data"
    }
   ],
   "source": [
    "#| layout-ncol: 2\n",
    "#| echo: false\n",
    "\n",
    "fig, ax = plt.subplots()\n",
    "ax.plot([1,2,3,4], [4,3,2,3], 'ro-')\n",
    "\n",
    "fig2, ax2 = plt.subplots()\n",
    "ax2.plot([1,2,3,4], [4,3,1,32], 'b*--')"
   ]
  },
  {
   "cell_type": "markdown",
   "metadata": {},
   "source": [
    "## Conclusions\n",
    "\n",
    "There are several more features that I think I will be using throughout my journey on this blog. There are also some features related to publications that I want to explore as I would like to understand if I can have some publications ready LaTeX documents from jupyter notebooks\n",
    "\n",
    "I found Quarto really easy to use and [the documentation](https://quarto.org/docs/guide/) is fairly straightforward to follow. I hope to post more interesting findings and customization as I will use it :)"
   ]
  },
  {
   "cell_type": "markdown",
   "metadata": {},
   "source": []
  }
 ],
 "metadata": {
  "kernelspec": {
   "display_name": "Python 3.10.2 ('test')",
   "language": "python",
   "name": "python3"
  },
  "language_info": {
   "codemirror_mode": {
    "name": "ipython",
    "version": 3
   },
   "file_extension": ".py",
   "mimetype": "text/x-python",
   "name": "python",
   "nbconvert_exporter": "python",
   "pygments_lexer": "ipython3",
   "version": "3.10.2"
  },
  "orig_nbformat": 4,
  "vscode": {
   "interpreter": {
    "hash": "641e589950cc9558ba3385d135dd21cfc4da8260c7a92db59d674b5a401e93b1"
   }
  }
 },
 "nbformat": 4,
 "nbformat_minor": 2
}
